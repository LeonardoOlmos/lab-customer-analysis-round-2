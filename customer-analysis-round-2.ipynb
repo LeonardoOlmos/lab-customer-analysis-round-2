{
 "cells": [
  {
   "cell_type": "markdown",
   "metadata": {},
   "source": [
    "# Customer Analysis Round 2"
   ]
  },
  {
   "cell_type": "code",
   "execution_count": 1,
   "metadata": {
    "tags": []
   },
   "outputs": [],
   "source": [
    "import pandas as pd\n",
    "import numpy as np\n",
    "import math\n",
    "import datetime as dt\n",
    "import calendar"
   ]
  },
  {
   "cell_type": "code",
   "execution_count": 2,
   "metadata": {
    "tags": []
   },
   "outputs": [],
   "source": [
    "df = pd.read_csv('files_for_lab/csv_files/marketing_customer_analysis.csv')"
   ]
  },
  {
   "cell_type": "code",
   "execution_count": 3,
   "metadata": {
    "tags": []
   },
   "outputs": [
    {
     "data": {
      "text/html": [
       "<div>\n",
       "<style scoped>\n",
       "    .dataframe tbody tr th:only-of-type {\n",
       "        vertical-align: middle;\n",
       "    }\n",
       "\n",
       "    .dataframe tbody tr th {\n",
       "        vertical-align: top;\n",
       "    }\n",
       "\n",
       "    .dataframe thead th {\n",
       "        text-align: right;\n",
       "    }\n",
       "</style>\n",
       "<table border=\"1\" class=\"dataframe\">\n",
       "  <thead>\n",
       "    <tr style=\"text-align: right;\">\n",
       "      <th></th>\n",
       "      <th>Unnamed: 0</th>\n",
       "      <th>Customer</th>\n",
       "      <th>State</th>\n",
       "      <th>Customer Lifetime Value</th>\n",
       "      <th>Response</th>\n",
       "      <th>Coverage</th>\n",
       "      <th>Education</th>\n",
       "      <th>Effective To Date</th>\n",
       "      <th>EmploymentStatus</th>\n",
       "      <th>Gender</th>\n",
       "      <th>...</th>\n",
       "      <th>Number of Open Complaints</th>\n",
       "      <th>Number of Policies</th>\n",
       "      <th>Policy Type</th>\n",
       "      <th>Policy</th>\n",
       "      <th>Renew Offer Type</th>\n",
       "      <th>Sales Channel</th>\n",
       "      <th>Total Claim Amount</th>\n",
       "      <th>Vehicle Class</th>\n",
       "      <th>Vehicle Size</th>\n",
       "      <th>Vehicle Type</th>\n",
       "    </tr>\n",
       "  </thead>\n",
       "  <tbody>\n",
       "    <tr>\n",
       "      <th>0</th>\n",
       "      <td>0</td>\n",
       "      <td>DK49336</td>\n",
       "      <td>Arizona</td>\n",
       "      <td>4809.216960</td>\n",
       "      <td>No</td>\n",
       "      <td>Basic</td>\n",
       "      <td>College</td>\n",
       "      <td>2/18/11</td>\n",
       "      <td>Employed</td>\n",
       "      <td>M</td>\n",
       "      <td>...</td>\n",
       "      <td>0.0</td>\n",
       "      <td>9</td>\n",
       "      <td>Corporate Auto</td>\n",
       "      <td>Corporate L3</td>\n",
       "      <td>Offer3</td>\n",
       "      <td>Agent</td>\n",
       "      <td>292.800000</td>\n",
       "      <td>Four-Door Car</td>\n",
       "      <td>Medsize</td>\n",
       "      <td>NaN</td>\n",
       "    </tr>\n",
       "    <tr>\n",
       "      <th>1</th>\n",
       "      <td>1</td>\n",
       "      <td>KX64629</td>\n",
       "      <td>California</td>\n",
       "      <td>2228.525238</td>\n",
       "      <td>No</td>\n",
       "      <td>Basic</td>\n",
       "      <td>College</td>\n",
       "      <td>1/18/11</td>\n",
       "      <td>Unemployed</td>\n",
       "      <td>F</td>\n",
       "      <td>...</td>\n",
       "      <td>0.0</td>\n",
       "      <td>1</td>\n",
       "      <td>Personal Auto</td>\n",
       "      <td>Personal L3</td>\n",
       "      <td>Offer4</td>\n",
       "      <td>Call Center</td>\n",
       "      <td>744.924331</td>\n",
       "      <td>Four-Door Car</td>\n",
       "      <td>Medsize</td>\n",
       "      <td>NaN</td>\n",
       "    </tr>\n",
       "  </tbody>\n",
       "</table>\n",
       "<p>2 rows × 26 columns</p>\n",
       "</div>"
      ],
      "text/plain": [
       "   Unnamed: 0 Customer       State  Customer Lifetime Value Response Coverage  \\\n",
       "0           0  DK49336     Arizona              4809.216960       No    Basic   \n",
       "1           1  KX64629  California              2228.525238       No    Basic   \n",
       "\n",
       "  Education Effective To Date EmploymentStatus Gender  ...  \\\n",
       "0   College           2/18/11         Employed      M  ...   \n",
       "1   College           1/18/11       Unemployed      F  ...   \n",
       "\n",
       "   Number of Open Complaints Number of Policies     Policy Type        Policy  \\\n",
       "0                        0.0                  9  Corporate Auto  Corporate L3   \n",
       "1                        0.0                  1   Personal Auto   Personal L3   \n",
       "\n",
       "   Renew Offer Type  Sales Channel  Total Claim Amount  Vehicle Class  \\\n",
       "0            Offer3          Agent          292.800000  Four-Door Car   \n",
       "1            Offer4    Call Center          744.924331  Four-Door Car   \n",
       "\n",
       "  Vehicle Size Vehicle Type  \n",
       "0      Medsize          NaN  \n",
       "1      Medsize          NaN  \n",
       "\n",
       "[2 rows x 26 columns]"
      ]
     },
     "execution_count": 3,
     "metadata": {},
     "output_type": "execute_result"
    }
   ],
   "source": [
    "df.head(2)"
   ]
  },
  {
   "cell_type": "markdown",
   "metadata": {},
   "source": [
    "1. Show the dataframe shape."
   ]
  },
  {
   "cell_type": "code",
   "execution_count": 4,
   "metadata": {
    "tags": []
   },
   "outputs": [
    {
     "data": {
      "text/plain": [
       "(10910, 26)"
      ]
     },
     "execution_count": 4,
     "metadata": {},
     "output_type": "execute_result"
    }
   ],
   "source": [
    "df.shape"
   ]
  },
  {
   "cell_type": "markdown",
   "metadata": {},
   "source": [
    "2. Standardize header names."
   ]
  },
  {
   "cell_type": "code",
   "execution_count": 5,
   "metadata": {
    "tags": []
   },
   "outputs": [],
   "source": [
    "df.drop(columns=['Unnamed: 0'], inplace=True)"
   ]
  },
  {
   "cell_type": "code",
   "execution_count": 6,
   "metadata": {
    "tags": []
   },
   "outputs": [
    {
     "data": {
      "text/plain": [
       "Index(['Customer', 'State', 'Customer Lifetime Value', 'Response', 'Coverage',\n",
       "       'Education', 'Effective To Date', 'EmploymentStatus', 'Gender',\n",
       "       'Income', 'Location Code', 'Marital Status', 'Monthly Premium Auto',\n",
       "       'Months Since Last Claim', 'Months Since Policy Inception',\n",
       "       'Number of Open Complaints', 'Number of Policies', 'Policy Type',\n",
       "       'Policy', 'Renew Offer Type', 'Sales Channel', 'Total Claim Amount',\n",
       "       'Vehicle Class', 'Vehicle Size', 'Vehicle Type'],\n",
       "      dtype='object')"
      ]
     },
     "execution_count": 6,
     "metadata": {},
     "output_type": "execute_result"
    }
   ],
   "source": [
    "df.columns"
   ]
  },
  {
   "cell_type": "code",
   "execution_count": 7,
   "metadata": {
    "tags": []
   },
   "outputs": [],
   "source": [
    "df.columns = df.columns.str.replace(' ', '_')"
   ]
  },
  {
   "cell_type": "code",
   "execution_count": 8,
   "metadata": {
    "tags": []
   },
   "outputs": [
    {
     "data": {
      "text/plain": [
       "Index(['Customer', 'State', 'Customer_Lifetime_Value', 'Response', 'Coverage',\n",
       "       'Education', 'Effective_To_Date', 'EmploymentStatus', 'Gender',\n",
       "       'Income', 'Location_Code', 'Marital_Status', 'Monthly_Premium_Auto',\n",
       "       'Months_Since_Last_Claim', 'Months_Since_Policy_Inception',\n",
       "       'Number_of_Open_Complaints', 'Number_of_Policies', 'Policy_Type',\n",
       "       'Policy', 'Renew_Offer_Type', 'Sales_Channel', 'Total_Claim_Amount',\n",
       "       'Vehicle_Class', 'Vehicle_Size', 'Vehicle_Type'],\n",
       "      dtype='object')"
      ]
     },
     "execution_count": 8,
     "metadata": {},
     "output_type": "execute_result"
    }
   ],
   "source": [
    "df.columns"
   ]
  },
  {
   "cell_type": "markdown",
   "metadata": {},
   "source": [
    "3. Which columns are numerical?"
   ]
  },
  {
   "cell_type": "code",
   "execution_count": 9,
   "metadata": {
    "tags": []
   },
   "outputs": [
    {
     "data": {
      "text/html": [
       "<div>\n",
       "<style scoped>\n",
       "    .dataframe tbody tr th:only-of-type {\n",
       "        vertical-align: middle;\n",
       "    }\n",
       "\n",
       "    .dataframe tbody tr th {\n",
       "        vertical-align: top;\n",
       "    }\n",
       "\n",
       "    .dataframe thead th {\n",
       "        text-align: right;\n",
       "    }\n",
       "</style>\n",
       "<table border=\"1\" class=\"dataframe\">\n",
       "  <thead>\n",
       "    <tr style=\"text-align: right;\">\n",
       "      <th></th>\n",
       "      <th>Customer_Lifetime_Value</th>\n",
       "      <th>Income</th>\n",
       "      <th>Monthly_Premium_Auto</th>\n",
       "      <th>Months_Since_Last_Claim</th>\n",
       "      <th>Months_Since_Policy_Inception</th>\n",
       "      <th>Number_of_Open_Complaints</th>\n",
       "      <th>Number_of_Policies</th>\n",
       "      <th>Total_Claim_Amount</th>\n",
       "    </tr>\n",
       "  </thead>\n",
       "  <tbody>\n",
       "    <tr>\n",
       "      <th>0</th>\n",
       "      <td>4809.21696</td>\n",
       "      <td>48029</td>\n",
       "      <td>61</td>\n",
       "      <td>7.0</td>\n",
       "      <td>52</td>\n",
       "      <td>0.0</td>\n",
       "      <td>9</td>\n",
       "      <td>292.8</td>\n",
       "    </tr>\n",
       "  </tbody>\n",
       "</table>\n",
       "</div>"
      ],
      "text/plain": [
       "   Customer_Lifetime_Value  Income  Monthly_Premium_Auto  \\\n",
       "0               4809.21696   48029                    61   \n",
       "\n",
       "   Months_Since_Last_Claim  Months_Since_Policy_Inception  \\\n",
       "0                      7.0                             52   \n",
       "\n",
       "   Number_of_Open_Complaints  Number_of_Policies  Total_Claim_Amount  \n",
       "0                        0.0                   9               292.8  "
      ]
     },
     "execution_count": 9,
     "metadata": {},
     "output_type": "execute_result"
    }
   ],
   "source": [
    "df.select_dtypes(include= np.number).head(1)"
   ]
  },
  {
   "cell_type": "markdown",
   "metadata": {},
   "source": [
    "* Customer_Lifetime_Value\n",
    "* Income\n",
    "* Monthly_Premium_Auto\n",
    "* Months_Since_Last_Claim\n",
    "* Months_Since_Policy_Inception\n",
    "* Number_of_Open_Complaints\n",
    "* Number_of_Policies\n",
    "* Total_Claim_Amount"
   ]
  },
  {
   "cell_type": "markdown",
   "metadata": {},
   "source": [
    "4. Which columns are categorical?"
   ]
  },
  {
   "cell_type": "code",
   "execution_count": 10,
   "metadata": {
    "tags": []
   },
   "outputs": [
    {
     "data": {
      "text/html": [
       "<div>\n",
       "<style scoped>\n",
       "    .dataframe tbody tr th:only-of-type {\n",
       "        vertical-align: middle;\n",
       "    }\n",
       "\n",
       "    .dataframe tbody tr th {\n",
       "        vertical-align: top;\n",
       "    }\n",
       "\n",
       "    .dataframe thead th {\n",
       "        text-align: right;\n",
       "    }\n",
       "</style>\n",
       "<table border=\"1\" class=\"dataframe\">\n",
       "  <thead>\n",
       "    <tr style=\"text-align: right;\">\n",
       "      <th></th>\n",
       "      <th>Customer</th>\n",
       "      <th>State</th>\n",
       "      <th>Response</th>\n",
       "      <th>Coverage</th>\n",
       "      <th>Education</th>\n",
       "      <th>Effective_To_Date</th>\n",
       "      <th>EmploymentStatus</th>\n",
       "      <th>Gender</th>\n",
       "      <th>Location_Code</th>\n",
       "      <th>Marital_Status</th>\n",
       "      <th>Policy_Type</th>\n",
       "      <th>Policy</th>\n",
       "      <th>Renew_Offer_Type</th>\n",
       "      <th>Sales_Channel</th>\n",
       "      <th>Vehicle_Class</th>\n",
       "      <th>Vehicle_Size</th>\n",
       "      <th>Vehicle_Type</th>\n",
       "    </tr>\n",
       "  </thead>\n",
       "  <tbody>\n",
       "    <tr>\n",
       "      <th>0</th>\n",
       "      <td>DK49336</td>\n",
       "      <td>Arizona</td>\n",
       "      <td>No</td>\n",
       "      <td>Basic</td>\n",
       "      <td>College</td>\n",
       "      <td>2/18/11</td>\n",
       "      <td>Employed</td>\n",
       "      <td>M</td>\n",
       "      <td>Suburban</td>\n",
       "      <td>Married</td>\n",
       "      <td>Corporate Auto</td>\n",
       "      <td>Corporate L3</td>\n",
       "      <td>Offer3</td>\n",
       "      <td>Agent</td>\n",
       "      <td>Four-Door Car</td>\n",
       "      <td>Medsize</td>\n",
       "      <td>NaN</td>\n",
       "    </tr>\n",
       "  </tbody>\n",
       "</table>\n",
       "</div>"
      ],
      "text/plain": [
       "  Customer    State Response Coverage Education Effective_To_Date  \\\n",
       "0  DK49336  Arizona       No    Basic   College           2/18/11   \n",
       "\n",
       "  EmploymentStatus Gender Location_Code Marital_Status     Policy_Type  \\\n",
       "0         Employed      M      Suburban        Married  Corporate Auto   \n",
       "\n",
       "         Policy Renew_Offer_Type Sales_Channel  Vehicle_Class Vehicle_Size  \\\n",
       "0  Corporate L3           Offer3         Agent  Four-Door Car      Medsize   \n",
       "\n",
       "  Vehicle_Type  \n",
       "0          NaN  "
      ]
     },
     "execution_count": 10,
     "metadata": {},
     "output_type": "execute_result"
    }
   ],
   "source": [
    "df.select_dtypes(include= np.object).head(1)"
   ]
  },
  {
   "cell_type": "markdown",
   "metadata": {},
   "source": [
    "* Customer\n",
    "* State\n",
    "* Response\n",
    "* Coverage\n",
    "* Education\n",
    "* Effective_To_Date\n",
    "* EmploymentStatus\n",
    "* Gender\n",
    "* Location_Code\n",
    "* Marital_Status\n",
    "* Policy_Type\n",
    "* Policy\n",
    "* Renew_Offer_Type\n",
    "* Sales_Channel\n",
    "* Vehicle_Class\n",
    "* Vehicle_Size\n",
    "* Vehicle_Type"
   ]
  },
  {
   "cell_type": "markdown",
   "metadata": {},
   "source": [
    "5. Check and deal with NaN values."
   ]
  },
  {
   "cell_type": "code",
   "execution_count": 11,
   "metadata": {
    "tags": []
   },
   "outputs": [
    {
     "data": {
      "text/plain": [
       "Customer                            0\n",
       "State                             631\n",
       "Customer_Lifetime_Value             0\n",
       "Response                          631\n",
       "Coverage                            0\n",
       "Education                           0\n",
       "Effective_To_Date                   0\n",
       "EmploymentStatus                    0\n",
       "Gender                              0\n",
       "Income                              0\n",
       "Location_Code                       0\n",
       "Marital_Status                      0\n",
       "Monthly_Premium_Auto                0\n",
       "Months_Since_Last_Claim           633\n",
       "Months_Since_Policy_Inception       0\n",
       "Number_of_Open_Complaints         633\n",
       "Number_of_Policies                  0\n",
       "Policy_Type                         0\n",
       "Policy                              0\n",
       "Renew_Offer_Type                    0\n",
       "Sales_Channel                       0\n",
       "Total_Claim_Amount                  0\n",
       "Vehicle_Class                     622\n",
       "Vehicle_Size                      622\n",
       "Vehicle_Type                     5482\n",
       "dtype: int64"
      ]
     },
     "execution_count": 11,
     "metadata": {},
     "output_type": "execute_result"
    }
   ],
   "source": [
    "df.isnull().sum()"
   ]
  },
  {
   "cell_type": "code",
   "execution_count": 12,
   "metadata": {},
   "outputs": [
    {
     "data": {
      "text/plain": [
       "array(['Arizona', 'California', 'Washington', 'Oregon', nan, 'Nevada'],\n",
       "      dtype=object)"
      ]
     },
     "execution_count": 12,
     "metadata": {},
     "output_type": "execute_result"
    }
   ],
   "source": [
    "pd.unique(df['State'])"
   ]
  },
  {
   "cell_type": "code",
   "execution_count": 13,
   "metadata": {
    "tags": []
   },
   "outputs": [],
   "source": [
    "df['State'].fillna('Other', inplace=True)"
   ]
  },
  {
   "cell_type": "code",
   "execution_count": 14,
   "metadata": {},
   "outputs": [
    {
     "data": {
      "text/plain": [
       "array(['No', 'Yes', nan], dtype=object)"
      ]
     },
     "execution_count": 14,
     "metadata": {},
     "output_type": "execute_result"
    }
   ],
   "source": [
    "pd.unique(df['Response'])"
   ]
  },
  {
   "cell_type": "code",
   "execution_count": 15,
   "metadata": {
    "tags": []
   },
   "outputs": [],
   "source": [
    "df['Response'].fillna('Other', inplace=True)"
   ]
  },
  {
   "cell_type": "code",
   "execution_count": 16,
   "metadata": {
    "tags": []
   },
   "outputs": [],
   "source": [
    "df['Months_Since_Last_Claim'].fillna(math.ceil(df['Months_Since_Last_Claim'].mean()), inplace=True)"
   ]
  },
  {
   "cell_type": "code",
   "execution_count": 17,
   "metadata": {
    "tags": []
   },
   "outputs": [],
   "source": [
    "df['Number_of_Open_Complaints'].fillna(0., inplace=True)"
   ]
  },
  {
   "cell_type": "code",
   "execution_count": 18,
   "metadata": {},
   "outputs": [
    {
     "data": {
      "text/plain": [
       "array(['Four-Door Car', 'SUV', 'Two-Door Car', 'Sports Car', 'Luxury Car',\n",
       "       'Luxury SUV', nan], dtype=object)"
      ]
     },
     "execution_count": 18,
     "metadata": {},
     "output_type": "execute_result"
    }
   ],
   "source": [
    "pd.unique(df['Vehicle_Class'])"
   ]
  },
  {
   "cell_type": "code",
   "execution_count": 19,
   "metadata": {
    "tags": []
   },
   "outputs": [],
   "source": [
    "df['Vehicle_Class'].fillna('Other', inplace=True)"
   ]
  },
  {
   "cell_type": "code",
   "execution_count": 20,
   "metadata": {},
   "outputs": [
    {
     "data": {
      "text/plain": [
       "array(['Medsize', 'Small', 'Large', nan], dtype=object)"
      ]
     },
     "execution_count": 20,
     "metadata": {},
     "output_type": "execute_result"
    }
   ],
   "source": [
    "pd.unique(df['Vehicle_Size'])"
   ]
  },
  {
   "cell_type": "code",
   "execution_count": 21,
   "metadata": {
    "tags": []
   },
   "outputs": [],
   "source": [
    "df['Vehicle_Size'].fillna('Other', inplace=True)"
   ]
  },
  {
   "cell_type": "code",
   "execution_count": 22,
   "metadata": {},
   "outputs": [
    {
     "data": {
      "text/plain": [
       "array([nan, 'A'], dtype=object)"
      ]
     },
     "execution_count": 22,
     "metadata": {},
     "output_type": "execute_result"
    }
   ],
   "source": [
    "pd.unique(df['Vehicle_Type'])"
   ]
  },
  {
   "cell_type": "code",
   "execution_count": 23,
   "metadata": {
    "tags": []
   },
   "outputs": [],
   "source": [
    "df['Vehicle_Type'].fillna('Other', inplace=True)"
   ]
  },
  {
   "cell_type": "code",
   "execution_count": 24,
   "metadata": {
    "tags": []
   },
   "outputs": [
    {
     "data": {
      "text/plain": [
       "Customer                         0\n",
       "State                            0\n",
       "Customer_Lifetime_Value          0\n",
       "Response                         0\n",
       "Coverage                         0\n",
       "Education                        0\n",
       "Effective_To_Date                0\n",
       "EmploymentStatus                 0\n",
       "Gender                           0\n",
       "Income                           0\n",
       "Location_Code                    0\n",
       "Marital_Status                   0\n",
       "Monthly_Premium_Auto             0\n",
       "Months_Since_Last_Claim          0\n",
       "Months_Since_Policy_Inception    0\n",
       "Number_of_Open_Complaints        0\n",
       "Number_of_Policies               0\n",
       "Policy_Type                      0\n",
       "Policy                           0\n",
       "Renew_Offer_Type                 0\n",
       "Sales_Channel                    0\n",
       "Total_Claim_Amount               0\n",
       "Vehicle_Class                    0\n",
       "Vehicle_Size                     0\n",
       "Vehicle_Type                     0\n",
       "dtype: int64"
      ]
     },
     "execution_count": 24,
     "metadata": {},
     "output_type": "execute_result"
    }
   ],
   "source": [
    "df.isnull().sum()"
   ]
  },
  {
   "cell_type": "code",
   "execution_count": 26,
   "metadata": {
    "tags": []
   },
   "outputs": [
    {
     "data": {
      "text/html": [
       "<div>\n",
       "<style scoped>\n",
       "    .dataframe tbody tr th:only-of-type {\n",
       "        vertical-align: middle;\n",
       "    }\n",
       "\n",
       "    .dataframe tbody tr th {\n",
       "        vertical-align: top;\n",
       "    }\n",
       "\n",
       "    .dataframe thead th {\n",
       "        text-align: right;\n",
       "    }\n",
       "</style>\n",
       "<table border=\"1\" class=\"dataframe\">\n",
       "  <thead>\n",
       "    <tr style=\"text-align: right;\">\n",
       "      <th></th>\n",
       "      <th>Customer</th>\n",
       "      <th>State</th>\n",
       "      <th>Customer_Lifetime_Value</th>\n",
       "      <th>Response</th>\n",
       "      <th>Coverage</th>\n",
       "      <th>Education</th>\n",
       "      <th>Effective_To_Date</th>\n",
       "      <th>EmploymentStatus</th>\n",
       "      <th>Gender</th>\n",
       "      <th>Income</th>\n",
       "      <th>...</th>\n",
       "      <th>Number_of_Open_Complaints</th>\n",
       "      <th>Number_of_Policies</th>\n",
       "      <th>Policy_Type</th>\n",
       "      <th>Policy</th>\n",
       "      <th>Renew_Offer_Type</th>\n",
       "      <th>Sales_Channel</th>\n",
       "      <th>Total_Claim_Amount</th>\n",
       "      <th>Vehicle_Class</th>\n",
       "      <th>Vehicle_Size</th>\n",
       "      <th>Vehicle_Type</th>\n",
       "    </tr>\n",
       "  </thead>\n",
       "  <tbody>\n",
       "    <tr>\n",
       "      <th>0</th>\n",
       "      <td>DK49336</td>\n",
       "      <td>Arizona</td>\n",
       "      <td>4809.216960</td>\n",
       "      <td>No</td>\n",
       "      <td>Basic</td>\n",
       "      <td>College</td>\n",
       "      <td>2/18/11</td>\n",
       "      <td>Employed</td>\n",
       "      <td>M</td>\n",
       "      <td>48029</td>\n",
       "      <td>...</td>\n",
       "      <td>0.0</td>\n",
       "      <td>9</td>\n",
       "      <td>Corporate Auto</td>\n",
       "      <td>Corporate L3</td>\n",
       "      <td>Offer3</td>\n",
       "      <td>Agent</td>\n",
       "      <td>292.800000</td>\n",
       "      <td>Four-Door Car</td>\n",
       "      <td>Medsize</td>\n",
       "      <td>Other</td>\n",
       "    </tr>\n",
       "    <tr>\n",
       "      <th>1</th>\n",
       "      <td>KX64629</td>\n",
       "      <td>California</td>\n",
       "      <td>2228.525238</td>\n",
       "      <td>No</td>\n",
       "      <td>Basic</td>\n",
       "      <td>College</td>\n",
       "      <td>1/18/11</td>\n",
       "      <td>Unemployed</td>\n",
       "      <td>F</td>\n",
       "      <td>0</td>\n",
       "      <td>...</td>\n",
       "      <td>0.0</td>\n",
       "      <td>1</td>\n",
       "      <td>Personal Auto</td>\n",
       "      <td>Personal L3</td>\n",
       "      <td>Offer4</td>\n",
       "      <td>Call Center</td>\n",
       "      <td>744.924331</td>\n",
       "      <td>Four-Door Car</td>\n",
       "      <td>Medsize</td>\n",
       "      <td>Other</td>\n",
       "    </tr>\n",
       "  </tbody>\n",
       "</table>\n",
       "<p>2 rows × 25 columns</p>\n",
       "</div>"
      ],
      "text/plain": [
       "  Customer       State  Customer_Lifetime_Value Response Coverage Education  \\\n",
       "0  DK49336     Arizona              4809.216960       No    Basic   College   \n",
       "1  KX64629  California              2228.525238       No    Basic   College   \n",
       "\n",
       "  Effective_To_Date EmploymentStatus Gender  Income  ...  \\\n",
       "0           2/18/11         Employed      M   48029  ...   \n",
       "1           1/18/11       Unemployed      F       0  ...   \n",
       "\n",
       "  Number_of_Open_Complaints Number_of_Policies     Policy_Type        Policy  \\\n",
       "0                       0.0                  9  Corporate Auto  Corporate L3   \n",
       "1                       0.0                  1   Personal Auto   Personal L3   \n",
       "\n",
       "   Renew_Offer_Type  Sales_Channel  Total_Claim_Amount  Vehicle_Class  \\\n",
       "0            Offer3          Agent          292.800000  Four-Door Car   \n",
       "1            Offer4    Call Center          744.924331  Four-Door Car   \n",
       "\n",
       "  Vehicle_Size Vehicle_Type  \n",
       "0      Medsize        Other  \n",
       "1      Medsize        Other  \n",
       "\n",
       "[2 rows x 25 columns]"
      ]
     },
     "execution_count": 26,
     "metadata": {},
     "output_type": "execute_result"
    }
   ],
   "source": [
    "df.head(2)"
   ]
  },
  {
   "cell_type": "code",
   "execution_count": 27,
   "metadata": {
    "tags": []
   },
   "outputs": [
    {
     "data": {
      "text/plain": [
       "Customer                          object\n",
       "State                             object\n",
       "Customer_Lifetime_Value          float64\n",
       "Response                          object\n",
       "Coverage                          object\n",
       "Education                         object\n",
       "Effective_To_Date                 object\n",
       "EmploymentStatus                  object\n",
       "Gender                            object\n",
       "Income                             int64\n",
       "Location_Code                     object\n",
       "Marital_Status                    object\n",
       "Monthly_Premium_Auto               int64\n",
       "Months_Since_Last_Claim          float64\n",
       "Months_Since_Policy_Inception      int64\n",
       "Number_of_Open_Complaints        float64\n",
       "Number_of_Policies                 int64\n",
       "Policy_Type                       object\n",
       "Policy                            object\n",
       "Renew_Offer_Type                  object\n",
       "Sales_Channel                     object\n",
       "Total_Claim_Amount               float64\n",
       "Vehicle_Class                     object\n",
       "Vehicle_Size                      object\n",
       "Vehicle_Type                      object\n",
       "dtype: object"
      ]
     },
     "execution_count": 27,
     "metadata": {},
     "output_type": "execute_result"
    }
   ],
   "source": [
    "df.dtypes"
   ]
  },
  {
   "cell_type": "markdown",
   "metadata": {},
   "source": [
    "6. Datetime format - Extract the months from the dataset and store in a separate column. Then filter the data to show only the information for the first quarter."
   ]
  },
  {
   "cell_type": "code",
   "execution_count": 28,
   "metadata": {
    "tags": []
   },
   "outputs": [],
   "source": [
    "df['Effective_To_Date'] = pd.to_datetime(df['Effective_To_Date'])"
   ]
  },
  {
   "cell_type": "code",
   "execution_count": 29,
   "metadata": {
    "tags": []
   },
   "outputs": [
    {
     "data": {
      "text/plain": [
       "Customer                                 object\n",
       "State                                    object\n",
       "Customer_Lifetime_Value                 float64\n",
       "Response                                 object\n",
       "Coverage                                 object\n",
       "Education                                object\n",
       "Effective_To_Date                datetime64[ns]\n",
       "EmploymentStatus                         object\n",
       "Gender                                   object\n",
       "Income                                    int64\n",
       "Location_Code                            object\n",
       "Marital_Status                           object\n",
       "Monthly_Premium_Auto                      int64\n",
       "Months_Since_Last_Claim                 float64\n",
       "Months_Since_Policy_Inception             int64\n",
       "Number_of_Open_Complaints               float64\n",
       "Number_of_Policies                        int64\n",
       "Policy_Type                              object\n",
       "Policy                                   object\n",
       "Renew_Offer_Type                         object\n",
       "Sales_Channel                            object\n",
       "Total_Claim_Amount                      float64\n",
       "Vehicle_Class                            object\n",
       "Vehicle_Size                             object\n",
       "Vehicle_Type                             object\n",
       "dtype: object"
      ]
     },
     "execution_count": 29,
     "metadata": {},
     "output_type": "execute_result"
    }
   ],
   "source": [
    "df.dtypes"
   ]
  },
  {
   "cell_type": "code",
   "execution_count": 30,
   "metadata": {
    "tags": []
   },
   "outputs": [
    {
     "data": {
      "text/html": [
       "<div>\n",
       "<style scoped>\n",
       "    .dataframe tbody tr th:only-of-type {\n",
       "        vertical-align: middle;\n",
       "    }\n",
       "\n",
       "    .dataframe tbody tr th {\n",
       "        vertical-align: top;\n",
       "    }\n",
       "\n",
       "    .dataframe thead th {\n",
       "        text-align: right;\n",
       "    }\n",
       "</style>\n",
       "<table border=\"1\" class=\"dataframe\">\n",
       "  <thead>\n",
       "    <tr style=\"text-align: right;\">\n",
       "      <th></th>\n",
       "      <th>Customer</th>\n",
       "      <th>State</th>\n",
       "      <th>Customer_Lifetime_Value</th>\n",
       "      <th>Response</th>\n",
       "      <th>Coverage</th>\n",
       "      <th>Education</th>\n",
       "      <th>Effective_To_Date</th>\n",
       "      <th>EmploymentStatus</th>\n",
       "      <th>Gender</th>\n",
       "      <th>Income</th>\n",
       "      <th>...</th>\n",
       "      <th>Number_of_Open_Complaints</th>\n",
       "      <th>Number_of_Policies</th>\n",
       "      <th>Policy_Type</th>\n",
       "      <th>Policy</th>\n",
       "      <th>Renew_Offer_Type</th>\n",
       "      <th>Sales_Channel</th>\n",
       "      <th>Total_Claim_Amount</th>\n",
       "      <th>Vehicle_Class</th>\n",
       "      <th>Vehicle_Size</th>\n",
       "      <th>Vehicle_Type</th>\n",
       "    </tr>\n",
       "  </thead>\n",
       "  <tbody>\n",
       "    <tr>\n",
       "      <th>0</th>\n",
       "      <td>DK49336</td>\n",
       "      <td>Arizona</td>\n",
       "      <td>4809.216960</td>\n",
       "      <td>No</td>\n",
       "      <td>Basic</td>\n",
       "      <td>College</td>\n",
       "      <td>2011-02-18</td>\n",
       "      <td>Employed</td>\n",
       "      <td>M</td>\n",
       "      <td>48029</td>\n",
       "      <td>...</td>\n",
       "      <td>0.0</td>\n",
       "      <td>9</td>\n",
       "      <td>Corporate Auto</td>\n",
       "      <td>Corporate L3</td>\n",
       "      <td>Offer3</td>\n",
       "      <td>Agent</td>\n",
       "      <td>292.800000</td>\n",
       "      <td>Four-Door Car</td>\n",
       "      <td>Medsize</td>\n",
       "      <td>Other</td>\n",
       "    </tr>\n",
       "    <tr>\n",
       "      <th>1</th>\n",
       "      <td>KX64629</td>\n",
       "      <td>California</td>\n",
       "      <td>2228.525238</td>\n",
       "      <td>No</td>\n",
       "      <td>Basic</td>\n",
       "      <td>College</td>\n",
       "      <td>2011-01-18</td>\n",
       "      <td>Unemployed</td>\n",
       "      <td>F</td>\n",
       "      <td>0</td>\n",
       "      <td>...</td>\n",
       "      <td>0.0</td>\n",
       "      <td>1</td>\n",
       "      <td>Personal Auto</td>\n",
       "      <td>Personal L3</td>\n",
       "      <td>Offer4</td>\n",
       "      <td>Call Center</td>\n",
       "      <td>744.924331</td>\n",
       "      <td>Four-Door Car</td>\n",
       "      <td>Medsize</td>\n",
       "      <td>Other</td>\n",
       "    </tr>\n",
       "  </tbody>\n",
       "</table>\n",
       "<p>2 rows × 25 columns</p>\n",
       "</div>"
      ],
      "text/plain": [
       "  Customer       State  Customer_Lifetime_Value Response Coverage Education  \\\n",
       "0  DK49336     Arizona              4809.216960       No    Basic   College   \n",
       "1  KX64629  California              2228.525238       No    Basic   College   \n",
       "\n",
       "  Effective_To_Date EmploymentStatus Gender  Income  ...  \\\n",
       "0        2011-02-18         Employed      M   48029  ...   \n",
       "1        2011-01-18       Unemployed      F       0  ...   \n",
       "\n",
       "  Number_of_Open_Complaints Number_of_Policies     Policy_Type        Policy  \\\n",
       "0                       0.0                  9  Corporate Auto  Corporate L3   \n",
       "1                       0.0                  1   Personal Auto   Personal L3   \n",
       "\n",
       "   Renew_Offer_Type  Sales_Channel  Total_Claim_Amount  Vehicle_Class  \\\n",
       "0            Offer3          Agent          292.800000  Four-Door Car   \n",
       "1            Offer4    Call Center          744.924331  Four-Door Car   \n",
       "\n",
       "  Vehicle_Size Vehicle_Type  \n",
       "0      Medsize        Other  \n",
       "1      Medsize        Other  \n",
       "\n",
       "[2 rows x 25 columns]"
      ]
     },
     "execution_count": 30,
     "metadata": {},
     "output_type": "execute_result"
    }
   ],
   "source": [
    "df.head(2)"
   ]
  },
  {
   "cell_type": "code",
   "execution_count": 31,
   "metadata": {
    "tags": []
   },
   "outputs": [],
   "source": [
    "df['Month'] = df['Effective_To_Date'].dt.month"
   ]
  },
  {
   "cell_type": "code",
   "execution_count": 32,
   "metadata": {
    "tags": []
   },
   "outputs": [
    {
     "data": {
      "text/html": [
       "<div>\n",
       "<style scoped>\n",
       "    .dataframe tbody tr th:only-of-type {\n",
       "        vertical-align: middle;\n",
       "    }\n",
       "\n",
       "    .dataframe tbody tr th {\n",
       "        vertical-align: top;\n",
       "    }\n",
       "\n",
       "    .dataframe thead th {\n",
       "        text-align: right;\n",
       "    }\n",
       "</style>\n",
       "<table border=\"1\" class=\"dataframe\">\n",
       "  <thead>\n",
       "    <tr style=\"text-align: right;\">\n",
       "      <th></th>\n",
       "      <th>Customer</th>\n",
       "      <th>State</th>\n",
       "      <th>Customer_Lifetime_Value</th>\n",
       "      <th>Response</th>\n",
       "      <th>Coverage</th>\n",
       "      <th>Education</th>\n",
       "      <th>Effective_To_Date</th>\n",
       "      <th>EmploymentStatus</th>\n",
       "      <th>Gender</th>\n",
       "      <th>Income</th>\n",
       "      <th>...</th>\n",
       "      <th>Number_of_Policies</th>\n",
       "      <th>Policy_Type</th>\n",
       "      <th>Policy</th>\n",
       "      <th>Renew_Offer_Type</th>\n",
       "      <th>Sales_Channel</th>\n",
       "      <th>Total_Claim_Amount</th>\n",
       "      <th>Vehicle_Class</th>\n",
       "      <th>Vehicle_Size</th>\n",
       "      <th>Vehicle_Type</th>\n",
       "      <th>Month</th>\n",
       "    </tr>\n",
       "  </thead>\n",
       "  <tbody>\n",
       "    <tr>\n",
       "      <th>0</th>\n",
       "      <td>DK49336</td>\n",
       "      <td>Arizona</td>\n",
       "      <td>4809.216960</td>\n",
       "      <td>No</td>\n",
       "      <td>Basic</td>\n",
       "      <td>College</td>\n",
       "      <td>2011-02-18</td>\n",
       "      <td>Employed</td>\n",
       "      <td>M</td>\n",
       "      <td>48029</td>\n",
       "      <td>...</td>\n",
       "      <td>9</td>\n",
       "      <td>Corporate Auto</td>\n",
       "      <td>Corporate L3</td>\n",
       "      <td>Offer3</td>\n",
       "      <td>Agent</td>\n",
       "      <td>292.800000</td>\n",
       "      <td>Four-Door Car</td>\n",
       "      <td>Medsize</td>\n",
       "      <td>Other</td>\n",
       "      <td>2</td>\n",
       "    </tr>\n",
       "    <tr>\n",
       "      <th>1</th>\n",
       "      <td>KX64629</td>\n",
       "      <td>California</td>\n",
       "      <td>2228.525238</td>\n",
       "      <td>No</td>\n",
       "      <td>Basic</td>\n",
       "      <td>College</td>\n",
       "      <td>2011-01-18</td>\n",
       "      <td>Unemployed</td>\n",
       "      <td>F</td>\n",
       "      <td>0</td>\n",
       "      <td>...</td>\n",
       "      <td>1</td>\n",
       "      <td>Personal Auto</td>\n",
       "      <td>Personal L3</td>\n",
       "      <td>Offer4</td>\n",
       "      <td>Call Center</td>\n",
       "      <td>744.924331</td>\n",
       "      <td>Four-Door Car</td>\n",
       "      <td>Medsize</td>\n",
       "      <td>Other</td>\n",
       "      <td>1</td>\n",
       "    </tr>\n",
       "  </tbody>\n",
       "</table>\n",
       "<p>2 rows × 26 columns</p>\n",
       "</div>"
      ],
      "text/plain": [
       "  Customer       State  Customer_Lifetime_Value Response Coverage Education  \\\n",
       "0  DK49336     Arizona              4809.216960       No    Basic   College   \n",
       "1  KX64629  California              2228.525238       No    Basic   College   \n",
       "\n",
       "  Effective_To_Date EmploymentStatus Gender  Income  ... Number_of_Policies  \\\n",
       "0        2011-02-18         Employed      M   48029  ...                  9   \n",
       "1        2011-01-18       Unemployed      F       0  ...                  1   \n",
       "\n",
       "      Policy_Type        Policy  Renew_Offer_Type  Sales_Channel  \\\n",
       "0  Corporate Auto  Corporate L3            Offer3          Agent   \n",
       "1   Personal Auto   Personal L3            Offer4    Call Center   \n",
       "\n",
       "   Total_Claim_Amount  Vehicle_Class Vehicle_Size Vehicle_Type Month  \n",
       "0          292.800000  Four-Door Car      Medsize        Other     2  \n",
       "1          744.924331  Four-Door Car      Medsize        Other     1  \n",
       "\n",
       "[2 rows x 26 columns]"
      ]
     },
     "execution_count": 32,
     "metadata": {},
     "output_type": "execute_result"
    }
   ],
   "source": [
    "df.head(2)"
   ]
  },
  {
   "cell_type": "code",
   "execution_count": 33,
   "metadata": {
    "tags": []
   },
   "outputs": [
    {
     "data": {
      "text/plain": [
       "Customer                                 object\n",
       "State                                    object\n",
       "Customer_Lifetime_Value                 float64\n",
       "Response                                 object\n",
       "Coverage                                 object\n",
       "Education                                object\n",
       "Effective_To_Date                datetime64[ns]\n",
       "EmploymentStatus                         object\n",
       "Gender                                   object\n",
       "Income                                    int64\n",
       "Location_Code                            object\n",
       "Marital_Status                           object\n",
       "Monthly_Premium_Auto                      int64\n",
       "Months_Since_Last_Claim                 float64\n",
       "Months_Since_Policy_Inception             int64\n",
       "Number_of_Open_Complaints               float64\n",
       "Number_of_Policies                        int64\n",
       "Policy_Type                              object\n",
       "Policy                                   object\n",
       "Renew_Offer_Type                         object\n",
       "Sales_Channel                            object\n",
       "Total_Claim_Amount                      float64\n",
       "Vehicle_Class                            object\n",
       "Vehicle_Size                             object\n",
       "Vehicle_Type                             object\n",
       "Month                                     int64\n",
       "dtype: object"
      ]
     },
     "execution_count": 33,
     "metadata": {},
     "output_type": "execute_result"
    }
   ],
   "source": [
    "df.dtypes"
   ]
  },
  {
   "cell_type": "code",
   "execution_count": 35,
   "metadata": {
    "tags": []
   },
   "outputs": [],
   "source": [
    "df['Month'] = df['Effective_To_Date'].dt.month_name()"
   ]
  },
  {
   "cell_type": "code",
   "execution_count": 36,
   "metadata": {
    "tags": []
   },
   "outputs": [
    {
     "data": {
      "text/html": [
       "<div>\n",
       "<style scoped>\n",
       "    .dataframe tbody tr th:only-of-type {\n",
       "        vertical-align: middle;\n",
       "    }\n",
       "\n",
       "    .dataframe tbody tr th {\n",
       "        vertical-align: top;\n",
       "    }\n",
       "\n",
       "    .dataframe thead th {\n",
       "        text-align: right;\n",
       "    }\n",
       "</style>\n",
       "<table border=\"1\" class=\"dataframe\">\n",
       "  <thead>\n",
       "    <tr style=\"text-align: right;\">\n",
       "      <th></th>\n",
       "      <th>Customer</th>\n",
       "      <th>State</th>\n",
       "      <th>Customer_Lifetime_Value</th>\n",
       "      <th>Response</th>\n",
       "      <th>Coverage</th>\n",
       "      <th>Education</th>\n",
       "      <th>Effective_To_Date</th>\n",
       "      <th>EmploymentStatus</th>\n",
       "      <th>Gender</th>\n",
       "      <th>Income</th>\n",
       "      <th>...</th>\n",
       "      <th>Number_of_Policies</th>\n",
       "      <th>Policy_Type</th>\n",
       "      <th>Policy</th>\n",
       "      <th>Renew_Offer_Type</th>\n",
       "      <th>Sales_Channel</th>\n",
       "      <th>Total_Claim_Amount</th>\n",
       "      <th>Vehicle_Class</th>\n",
       "      <th>Vehicle_Size</th>\n",
       "      <th>Vehicle_Type</th>\n",
       "      <th>Month</th>\n",
       "    </tr>\n",
       "  </thead>\n",
       "  <tbody>\n",
       "    <tr>\n",
       "      <th>0</th>\n",
       "      <td>DK49336</td>\n",
       "      <td>Arizona</td>\n",
       "      <td>4809.216960</td>\n",
       "      <td>No</td>\n",
       "      <td>Basic</td>\n",
       "      <td>College</td>\n",
       "      <td>2011-02-18</td>\n",
       "      <td>Employed</td>\n",
       "      <td>M</td>\n",
       "      <td>48029</td>\n",
       "      <td>...</td>\n",
       "      <td>9</td>\n",
       "      <td>Corporate Auto</td>\n",
       "      <td>Corporate L3</td>\n",
       "      <td>Offer3</td>\n",
       "      <td>Agent</td>\n",
       "      <td>292.800000</td>\n",
       "      <td>Four-Door Car</td>\n",
       "      <td>Medsize</td>\n",
       "      <td>Other</td>\n",
       "      <td>February</td>\n",
       "    </tr>\n",
       "    <tr>\n",
       "      <th>1</th>\n",
       "      <td>KX64629</td>\n",
       "      <td>California</td>\n",
       "      <td>2228.525238</td>\n",
       "      <td>No</td>\n",
       "      <td>Basic</td>\n",
       "      <td>College</td>\n",
       "      <td>2011-01-18</td>\n",
       "      <td>Unemployed</td>\n",
       "      <td>F</td>\n",
       "      <td>0</td>\n",
       "      <td>...</td>\n",
       "      <td>1</td>\n",
       "      <td>Personal Auto</td>\n",
       "      <td>Personal L3</td>\n",
       "      <td>Offer4</td>\n",
       "      <td>Call Center</td>\n",
       "      <td>744.924331</td>\n",
       "      <td>Four-Door Car</td>\n",
       "      <td>Medsize</td>\n",
       "      <td>Other</td>\n",
       "      <td>January</td>\n",
       "    </tr>\n",
       "  </tbody>\n",
       "</table>\n",
       "<p>2 rows × 26 columns</p>\n",
       "</div>"
      ],
      "text/plain": [
       "  Customer       State  Customer_Lifetime_Value Response Coverage Education  \\\n",
       "0  DK49336     Arizona              4809.216960       No    Basic   College   \n",
       "1  KX64629  California              2228.525238       No    Basic   College   \n",
       "\n",
       "  Effective_To_Date EmploymentStatus Gender  Income  ... Number_of_Policies  \\\n",
       "0        2011-02-18         Employed      M   48029  ...                  9   \n",
       "1        2011-01-18       Unemployed      F       0  ...                  1   \n",
       "\n",
       "      Policy_Type        Policy  Renew_Offer_Type  Sales_Channel  \\\n",
       "0  Corporate Auto  Corporate L3            Offer3          Agent   \n",
       "1   Personal Auto   Personal L3            Offer4    Call Center   \n",
       "\n",
       "   Total_Claim_Amount  Vehicle_Class Vehicle_Size Vehicle_Type     Month  \n",
       "0          292.800000  Four-Door Car      Medsize        Other  February  \n",
       "1          744.924331  Four-Door Car      Medsize        Other   January  \n",
       "\n",
       "[2 rows x 26 columns]"
      ]
     },
     "execution_count": 36,
     "metadata": {},
     "output_type": "execute_result"
    }
   ],
   "source": [
    "df.head(2)"
   ]
  },
  {
   "cell_type": "code",
   "execution_count": 37,
   "metadata": {
    "tags": []
   },
   "outputs": [],
   "source": [
    "df[(df['Month'] == 'January') | (df['Month'] == 'February') | (df['Month'] == 'March')]"
   ]
  },
  {
   "cell_type": "code",
   "execution_count": 38,
   "metadata": {
    "tags": []
   },
   "outputs": [
    {
     "data": {
      "text/html": [
       "<div>\n",
       "<style scoped>\n",
       "    .dataframe tbody tr th:only-of-type {\n",
       "        vertical-align: middle;\n",
       "    }\n",
       "\n",
       "    .dataframe tbody tr th {\n",
       "        vertical-align: top;\n",
       "    }\n",
       "\n",
       "    .dataframe thead th {\n",
       "        text-align: right;\n",
       "    }\n",
       "</style>\n",
       "<table border=\"1\" class=\"dataframe\">\n",
       "  <thead>\n",
       "    <tr style=\"text-align: right;\">\n",
       "      <th></th>\n",
       "      <th>Customer</th>\n",
       "      <th>State</th>\n",
       "      <th>Customer_Lifetime_Value</th>\n",
       "      <th>Response</th>\n",
       "      <th>Coverage</th>\n",
       "      <th>Education</th>\n",
       "      <th>Effective_To_Date</th>\n",
       "      <th>EmploymentStatus</th>\n",
       "      <th>Gender</th>\n",
       "      <th>Income</th>\n",
       "      <th>...</th>\n",
       "      <th>Number_of_Policies</th>\n",
       "      <th>Policy_Type</th>\n",
       "      <th>Policy</th>\n",
       "      <th>Renew_Offer_Type</th>\n",
       "      <th>Sales_Channel</th>\n",
       "      <th>Total_Claim_Amount</th>\n",
       "      <th>Vehicle_Class</th>\n",
       "      <th>Vehicle_Size</th>\n",
       "      <th>Vehicle_Type</th>\n",
       "      <th>Month</th>\n",
       "    </tr>\n",
       "  </thead>\n",
       "  <tbody>\n",
       "    <tr>\n",
       "      <th>0</th>\n",
       "      <td>DK49336</td>\n",
       "      <td>Arizona</td>\n",
       "      <td>4809.216960</td>\n",
       "      <td>No</td>\n",
       "      <td>Basic</td>\n",
       "      <td>College</td>\n",
       "      <td>2011-02-18</td>\n",
       "      <td>Employed</td>\n",
       "      <td>M</td>\n",
       "      <td>48029</td>\n",
       "      <td>...</td>\n",
       "      <td>9</td>\n",
       "      <td>Corporate Auto</td>\n",
       "      <td>Corporate L3</td>\n",
       "      <td>Offer3</td>\n",
       "      <td>Agent</td>\n",
       "      <td>292.800000</td>\n",
       "      <td>Four-Door Car</td>\n",
       "      <td>Medsize</td>\n",
       "      <td>Other</td>\n",
       "      <td>February</td>\n",
       "    </tr>\n",
       "    <tr>\n",
       "      <th>1</th>\n",
       "      <td>KX64629</td>\n",
       "      <td>California</td>\n",
       "      <td>2228.525238</td>\n",
       "      <td>No</td>\n",
       "      <td>Basic</td>\n",
       "      <td>College</td>\n",
       "      <td>2011-01-18</td>\n",
       "      <td>Unemployed</td>\n",
       "      <td>F</td>\n",
       "      <td>0</td>\n",
       "      <td>...</td>\n",
       "      <td>1</td>\n",
       "      <td>Personal Auto</td>\n",
       "      <td>Personal L3</td>\n",
       "      <td>Offer4</td>\n",
       "      <td>Call Center</td>\n",
       "      <td>744.924331</td>\n",
       "      <td>Four-Door Car</td>\n",
       "      <td>Medsize</td>\n",
       "      <td>Other</td>\n",
       "      <td>January</td>\n",
       "    </tr>\n",
       "    <tr>\n",
       "      <th>2</th>\n",
       "      <td>LZ68649</td>\n",
       "      <td>Washington</td>\n",
       "      <td>14947.917300</td>\n",
       "      <td>No</td>\n",
       "      <td>Basic</td>\n",
       "      <td>Bachelor</td>\n",
       "      <td>2011-02-10</td>\n",
       "      <td>Employed</td>\n",
       "      <td>M</td>\n",
       "      <td>22139</td>\n",
       "      <td>...</td>\n",
       "      <td>2</td>\n",
       "      <td>Personal Auto</td>\n",
       "      <td>Personal L3</td>\n",
       "      <td>Offer3</td>\n",
       "      <td>Call Center</td>\n",
       "      <td>480.000000</td>\n",
       "      <td>SUV</td>\n",
       "      <td>Medsize</td>\n",
       "      <td>A</td>\n",
       "      <td>February</td>\n",
       "    </tr>\n",
       "    <tr>\n",
       "      <th>3</th>\n",
       "      <td>XL78013</td>\n",
       "      <td>Oregon</td>\n",
       "      <td>22332.439460</td>\n",
       "      <td>Yes</td>\n",
       "      <td>Extended</td>\n",
       "      <td>College</td>\n",
       "      <td>2011-01-11</td>\n",
       "      <td>Employed</td>\n",
       "      <td>M</td>\n",
       "      <td>49078</td>\n",
       "      <td>...</td>\n",
       "      <td>2</td>\n",
       "      <td>Corporate Auto</td>\n",
       "      <td>Corporate L3</td>\n",
       "      <td>Offer2</td>\n",
       "      <td>Branch</td>\n",
       "      <td>484.013411</td>\n",
       "      <td>Four-Door Car</td>\n",
       "      <td>Medsize</td>\n",
       "      <td>A</td>\n",
       "      <td>January</td>\n",
       "    </tr>\n",
       "    <tr>\n",
       "      <th>4</th>\n",
       "      <td>QA50777</td>\n",
       "      <td>Oregon</td>\n",
       "      <td>9025.067525</td>\n",
       "      <td>No</td>\n",
       "      <td>Premium</td>\n",
       "      <td>Bachelor</td>\n",
       "      <td>2011-01-17</td>\n",
       "      <td>Medical Leave</td>\n",
       "      <td>F</td>\n",
       "      <td>23675</td>\n",
       "      <td>...</td>\n",
       "      <td>7</td>\n",
       "      <td>Personal Auto</td>\n",
       "      <td>Personal L2</td>\n",
       "      <td>Offer1</td>\n",
       "      <td>Branch</td>\n",
       "      <td>707.925645</td>\n",
       "      <td>Four-Door Car</td>\n",
       "      <td>Medsize</td>\n",
       "      <td>Other</td>\n",
       "      <td>January</td>\n",
       "    </tr>\n",
       "    <tr>\n",
       "      <th>5</th>\n",
       "      <td>HO81102</td>\n",
       "      <td>Other</td>\n",
       "      <td>4745.181764</td>\n",
       "      <td>Other</td>\n",
       "      <td>Basic</td>\n",
       "      <td>High School or Below</td>\n",
       "      <td>2011-02-14</td>\n",
       "      <td>Employed</td>\n",
       "      <td>M</td>\n",
       "      <td>50549</td>\n",
       "      <td>...</td>\n",
       "      <td>7</td>\n",
       "      <td>Personal Auto</td>\n",
       "      <td>Personal L3</td>\n",
       "      <td>Offer1</td>\n",
       "      <td>Agent</td>\n",
       "      <td>292.800000</td>\n",
       "      <td>Four-Door Car</td>\n",
       "      <td>Medsize</td>\n",
       "      <td>A</td>\n",
       "      <td>February</td>\n",
       "    </tr>\n",
       "    <tr>\n",
       "      <th>6</th>\n",
       "      <td>IW72280</td>\n",
       "      <td>California</td>\n",
       "      <td>5035.035257</td>\n",
       "      <td>No</td>\n",
       "      <td>Basic</td>\n",
       "      <td>Doctor</td>\n",
       "      <td>2011-02-14</td>\n",
       "      <td>Employed</td>\n",
       "      <td>F</td>\n",
       "      <td>37405</td>\n",
       "      <td>...</td>\n",
       "      <td>4</td>\n",
       "      <td>Corporate Auto</td>\n",
       "      <td>Corporate L2</td>\n",
       "      <td>Offer2</td>\n",
       "      <td>Branch</td>\n",
       "      <td>287.556107</td>\n",
       "      <td>Four-Door Car</td>\n",
       "      <td>Medsize</td>\n",
       "      <td>Other</td>\n",
       "      <td>February</td>\n",
       "    </tr>\n",
       "    <tr>\n",
       "      <th>7</th>\n",
       "      <td>IH64929</td>\n",
       "      <td>California</td>\n",
       "      <td>4956.247235</td>\n",
       "      <td>No</td>\n",
       "      <td>Basic</td>\n",
       "      <td>High School or Below</td>\n",
       "      <td>2011-02-24</td>\n",
       "      <td>Employed</td>\n",
       "      <td>M</td>\n",
       "      <td>87197</td>\n",
       "      <td>...</td>\n",
       "      <td>3</td>\n",
       "      <td>Personal Auto</td>\n",
       "      <td>Personal L2</td>\n",
       "      <td>Offer2</td>\n",
       "      <td>Branch</td>\n",
       "      <td>247.402353</td>\n",
       "      <td>Two-Door Car</td>\n",
       "      <td>Medsize</td>\n",
       "      <td>Other</td>\n",
       "      <td>February</td>\n",
       "    </tr>\n",
       "    <tr>\n",
       "      <th>8</th>\n",
       "      <td>FM55990</td>\n",
       "      <td>California</td>\n",
       "      <td>5989.773931</td>\n",
       "      <td>Yes</td>\n",
       "      <td>Premium</td>\n",
       "      <td>College</td>\n",
       "      <td>2011-01-19</td>\n",
       "      <td>Employed</td>\n",
       "      <td>M</td>\n",
       "      <td>66839</td>\n",
       "      <td>...</td>\n",
       "      <td>1</td>\n",
       "      <td>Personal Auto</td>\n",
       "      <td>Personal L1</td>\n",
       "      <td>Offer2</td>\n",
       "      <td>Branch</td>\n",
       "      <td>739.200000</td>\n",
       "      <td>Sports Car</td>\n",
       "      <td>Medsize</td>\n",
       "      <td>Other</td>\n",
       "      <td>January</td>\n",
       "    </tr>\n",
       "    <tr>\n",
       "      <th>9</th>\n",
       "      <td>QX31376</td>\n",
       "      <td>Oregon</td>\n",
       "      <td>17114.328150</td>\n",
       "      <td>No</td>\n",
       "      <td>Extended</td>\n",
       "      <td>Master</td>\n",
       "      <td>2011-01-04</td>\n",
       "      <td>Employed</td>\n",
       "      <td>F</td>\n",
       "      <td>70961</td>\n",
       "      <td>...</td>\n",
       "      <td>2</td>\n",
       "      <td>Corporate Auto</td>\n",
       "      <td>Corporate L3</td>\n",
       "      <td>Offer2</td>\n",
       "      <td>Agent</td>\n",
       "      <td>408.000000</td>\n",
       "      <td>Four-Door Car</td>\n",
       "      <td>Small</td>\n",
       "      <td>Other</td>\n",
       "      <td>January</td>\n",
       "    </tr>\n",
       "  </tbody>\n",
       "</table>\n",
       "<p>10 rows × 26 columns</p>\n",
       "</div>"
      ],
      "text/plain": [
       "  Customer       State  Customer_Lifetime_Value Response  Coverage  \\\n",
       "0  DK49336     Arizona              4809.216960       No     Basic   \n",
       "1  KX64629  California              2228.525238       No     Basic   \n",
       "2  LZ68649  Washington             14947.917300       No     Basic   \n",
       "3  XL78013      Oregon             22332.439460      Yes  Extended   \n",
       "4  QA50777      Oregon              9025.067525       No   Premium   \n",
       "5  HO81102       Other              4745.181764    Other     Basic   \n",
       "6  IW72280  California              5035.035257       No     Basic   \n",
       "7  IH64929  California              4956.247235       No     Basic   \n",
       "8  FM55990  California              5989.773931      Yes   Premium   \n",
       "9  QX31376      Oregon             17114.328150       No  Extended   \n",
       "\n",
       "              Education Effective_To_Date EmploymentStatus Gender  Income  \\\n",
       "0               College        2011-02-18         Employed      M   48029   \n",
       "1               College        2011-01-18       Unemployed      F       0   \n",
       "2              Bachelor        2011-02-10         Employed      M   22139   \n",
       "3               College        2011-01-11         Employed      M   49078   \n",
       "4              Bachelor        2011-01-17    Medical Leave      F   23675   \n",
       "5  High School or Below        2011-02-14         Employed      M   50549   \n",
       "6                Doctor        2011-02-14         Employed      F   37405   \n",
       "7  High School or Below        2011-02-24         Employed      M   87197   \n",
       "8               College        2011-01-19         Employed      M   66839   \n",
       "9                Master        2011-01-04         Employed      F   70961   \n",
       "\n",
       "   ... Number_of_Policies     Policy_Type        Policy  Renew_Offer_Type  \\\n",
       "0  ...                  9  Corporate Auto  Corporate L3            Offer3   \n",
       "1  ...                  1   Personal Auto   Personal L3            Offer4   \n",
       "2  ...                  2   Personal Auto   Personal L3            Offer3   \n",
       "3  ...                  2  Corporate Auto  Corporate L3            Offer2   \n",
       "4  ...                  7   Personal Auto   Personal L2            Offer1   \n",
       "5  ...                  7   Personal Auto   Personal L3            Offer1   \n",
       "6  ...                  4  Corporate Auto  Corporate L2            Offer2   \n",
       "7  ...                  3   Personal Auto   Personal L2            Offer2   \n",
       "8  ...                  1   Personal Auto   Personal L1            Offer2   \n",
       "9  ...                  2  Corporate Auto  Corporate L3            Offer2   \n",
       "\n",
       "   Sales_Channel  Total_Claim_Amount  Vehicle_Class Vehicle_Size Vehicle_Type  \\\n",
       "0          Agent          292.800000  Four-Door Car      Medsize        Other   \n",
       "1    Call Center          744.924331  Four-Door Car      Medsize        Other   \n",
       "2    Call Center          480.000000            SUV      Medsize            A   \n",
       "3         Branch          484.013411  Four-Door Car      Medsize            A   \n",
       "4         Branch          707.925645  Four-Door Car      Medsize        Other   \n",
       "5          Agent          292.800000  Four-Door Car      Medsize            A   \n",
       "6         Branch          287.556107  Four-Door Car      Medsize        Other   \n",
       "7         Branch          247.402353   Two-Door Car      Medsize        Other   \n",
       "8         Branch          739.200000     Sports Car      Medsize        Other   \n",
       "9          Agent          408.000000  Four-Door Car        Small        Other   \n",
       "\n",
       "      Month  \n",
       "0  February  \n",
       "1   January  \n",
       "2  February  \n",
       "3   January  \n",
       "4   January  \n",
       "5  February  \n",
       "6  February  \n",
       "7  February  \n",
       "8   January  \n",
       "9   January  \n",
       "\n",
       "[10 rows x 26 columns]"
      ]
     },
     "execution_count": 38,
     "metadata": {},
     "output_type": "execute_result"
    }
   ],
   "source": [
    "sample_df.head(10)"
   ]
  },
  {
   "cell_type": "code",
   "execution_count": 40,
   "metadata": {
    "tags": []
   },
   "outputs": [
    {
     "data": {
      "text/plain": [
       "array(['February', 'January'], dtype=object)"
      ]
     },
     "execution_count": 40,
     "metadata": {},
     "output_type": "execute_result"
    }
   ],
   "source": [
    "df['Month'].unique()"
   ]
  },
  {
   "cell_type": "markdown",
   "metadata": {},
   "source": [
    "BONUS: Put all the previously mentioned data transformations into a function."
   ]
  },
  {
   "cell_type": "code",
   "execution_count": 1,
   "metadata": {},
   "outputs": [],
   "source": [
    "def df_cleaner(df):\n",
    "    print(df.shape)\n",
    "    df.drop(columns=['Unnamed: 0'], inplace=True)\n",
    "    df.columns = df.columns.str.replace(' ', '_')\n",
    "    print(df.columns)\n",
    "    print(df.select_dtypes(include= np.number).head(1))\n",
    "    print(df.select_dtypes(include= np.object).head(1))\n",
    "    print(df.isnull().sum())\n",
    "    df['State'].fillna('Other', inplace=True)\n",
    "    df['Response'].fillna('Other', inplace=True)\n",
    "    df['Months_Since_Last_Claim'].fillna(math.ceil(df['Months_Since_Last_Claim'].mean()), inplace=True)\n",
    "    df['Number_of_Open_Complaints'].fillna(0., inplace=True)\n",
    "    df['Vehicle_Class'].fillna('Other', inplace=True)\n",
    "    df['Vehicle_Size'].fillna('Other', inplace=True)\n",
    "    df['Vehicle_Type'].fillna('Other', inplace=True)\n",
    "    print(df.isnull().sum())\n",
    "    df['Effective_To_Date'] = pd.to_datetime(df['Effective_To_Date'])\n",
    "    df['Month'] = df['Effective_To_Date'].dt.month\n",
    "    df['Month'] = df['Effective_To_Date'].dt.month_name()\n",
    "    print(df[(df['Month'] == 'January') | (df['Month'] == 'February') | (df['Month'] == 'March')])\n",
    "    \n",
    "    return df"
   ]
  },
  {
   "cell_type": "code",
   "execution_count": 47,
   "metadata": {},
   "outputs": [],
   "source": [
    "sample_df = pd.read_csv('files_for_lab/csv_files/marketing_customer_analysis.csv')"
   ]
  },
  {
   "cell_type": "code",
   "execution_count": 48,
   "metadata": {},
   "outputs": [
    {
     "name": "stdout",
     "output_type": "stream",
     "text": [
      "(10910, 26)\n",
      "Index(['Customer', 'State', 'Customer_Lifetime_Value', 'Response', 'Coverage',\n",
      "       'Education', 'Effective_To_Date', 'EmploymentStatus', 'Gender',\n",
      "       'Income', 'Location_Code', 'Marital_Status', 'Monthly_Premium_Auto',\n",
      "       'Months_Since_Last_Claim', 'Months_Since_Policy_Inception',\n",
      "       'Number_of_Open_Complaints', 'Number_of_Policies', 'Policy_Type',\n",
      "       'Policy', 'Renew_Offer_Type', 'Sales_Channel', 'Total_Claim_Amount',\n",
      "       'Vehicle_Class', 'Vehicle_Size', 'Vehicle_Type'],\n",
      "      dtype='object')\n",
      "   Customer_Lifetime_Value  Income  Monthly_Premium_Auto  \\\n",
      "0               4809.21696   48029                    61   \n",
      "\n",
      "   Months_Since_Last_Claim  Months_Since_Policy_Inception  \\\n",
      "0                      7.0                             52   \n",
      "\n",
      "   Number_of_Open_Complaints  Number_of_Policies  Total_Claim_Amount  \n",
      "0                        0.0                   9               292.8  \n",
      "  Customer    State Response Coverage Education Effective_To_Date  \\\n",
      "0  DK49336  Arizona       No    Basic   College           2/18/11   \n",
      "\n",
      "  EmploymentStatus Gender Location_Code Marital_Status     Policy_Type  \\\n",
      "0         Employed      M      Suburban        Married  Corporate Auto   \n",
      "\n",
      "         Policy Renew_Offer_Type Sales_Channel  Vehicle_Class Vehicle_Size  \\\n",
      "0  Corporate L3           Offer3         Agent  Four-Door Car      Medsize   \n",
      "\n",
      "  Vehicle_Type  \n",
      "0          NaN  \n",
      "Customer                            0\n",
      "State                             631\n",
      "Customer_Lifetime_Value             0\n",
      "Response                          631\n",
      "Coverage                            0\n",
      "Education                           0\n",
      "Effective_To_Date                   0\n",
      "EmploymentStatus                    0\n",
      "Gender                              0\n",
      "Income                              0\n",
      "Location_Code                       0\n",
      "Marital_Status                      0\n",
      "Monthly_Premium_Auto                0\n",
      "Months_Since_Last_Claim           633\n",
      "Months_Since_Policy_Inception       0\n",
      "Number_of_Open_Complaints         633\n",
      "Number_of_Policies                  0\n",
      "Policy_Type                         0\n",
      "Policy                              0\n",
      "Renew_Offer_Type                    0\n",
      "Sales_Channel                       0\n",
      "Total_Claim_Amount                  0\n",
      "Vehicle_Class                     622\n",
      "Vehicle_Size                      622\n",
      "Vehicle_Type                     5482\n",
      "dtype: int64\n",
      "Customer                         0\n",
      "State                            0\n",
      "Customer_Lifetime_Value          0\n",
      "Response                         0\n",
      "Coverage                         0\n",
      "Education                        0\n",
      "Effective_To_Date                0\n",
      "EmploymentStatus                 0\n",
      "Gender                           0\n",
      "Income                           0\n",
      "Location_Code                    0\n",
      "Marital_Status                   0\n",
      "Monthly_Premium_Auto             0\n",
      "Months_Since_Last_Claim          0\n",
      "Months_Since_Policy_Inception    0\n",
      "Number_of_Open_Complaints        0\n",
      "Number_of_Policies               0\n",
      "Policy_Type                      0\n",
      "Policy                           0\n",
      "Renew_Offer_Type                 0\n",
      "Sales_Channel                    0\n",
      "Total_Claim_Amount               0\n",
      "Vehicle_Class                    0\n",
      "Vehicle_Size                     0\n",
      "Vehicle_Type                     0\n",
      "dtype: int64\n",
      "      Customer       State  Customer_Lifetime_Value Response  Coverage  \\\n",
      "0      DK49336     Arizona              4809.216960       No     Basic   \n",
      "1      KX64629  California              2228.525238       No     Basic   \n",
      "2      LZ68649  Washington             14947.917300       No     Basic   \n",
      "3      XL78013      Oregon             22332.439460      Yes  Extended   \n",
      "4      QA50777      Oregon              9025.067525       No   Premium   \n",
      "...        ...         ...                      ...      ...       ...   \n",
      "10905  FE99816      Nevada             15563.369440       No   Premium   \n",
      "10906  KX53892      Oregon              5259.444853       No     Basic   \n",
      "10907  TL39050     Arizona             23893.304100       No  Extended   \n",
      "10908  WA60547  California             11971.977650       No   Premium   \n",
      "10909  IV32877       Other              6857.519928    Other     Basic   \n",
      "\n",
      "      Education Effective_To_Date EmploymentStatus Gender  Income  ...  \\\n",
      "0       College        2011-02-18         Employed      M   48029  ...   \n",
      "1       College        2011-01-18       Unemployed      F       0  ...   \n",
      "2      Bachelor        2011-02-10         Employed      M   22139  ...   \n",
      "3       College        2011-01-11         Employed      M   49078  ...   \n",
      "4      Bachelor        2011-01-17    Medical Leave      F   23675  ...   \n",
      "...         ...               ...              ...    ...     ...  ...   \n",
      "10905  Bachelor        2011-01-19       Unemployed      F       0  ...   \n",
      "10906   College        2011-01-06         Employed      F   61146  ...   \n",
      "10907  Bachelor        2011-02-06         Employed      F   39837  ...   \n",
      "10908   College        2011-02-13         Employed      F   64195  ...   \n",
      "10909  Bachelor        2011-01-08       Unemployed      M       0  ...   \n",
      "\n",
      "      Number_of_Policies     Policy_Type        Policy  Renew_Offer_Type  \\\n",
      "0                      9  Corporate Auto  Corporate L3            Offer3   \n",
      "1                      1   Personal Auto   Personal L3            Offer4   \n",
      "2                      2   Personal Auto   Personal L3            Offer3   \n",
      "3                      2  Corporate Auto  Corporate L3            Offer2   \n",
      "4                      7   Personal Auto   Personal L2            Offer1   \n",
      "...                  ...             ...           ...               ...   \n",
      "10905                  7   Personal Auto   Personal L1            Offer3   \n",
      "10906                  6   Personal Auto   Personal L3            Offer2   \n",
      "10907                  2  Corporate Auto  Corporate L3            Offer1   \n",
      "10908                  6   Personal Auto   Personal L1            Offer1   \n",
      "10909                  3   Personal Auto   Personal L1            Offer4   \n",
      "\n",
      "       Sales_Channel  Total_Claim_Amount  Vehicle_Class Vehicle_Size  \\\n",
      "0              Agent          292.800000  Four-Door Car      Medsize   \n",
      "1        Call Center          744.924331  Four-Door Car      Medsize   \n",
      "2        Call Center          480.000000            SUV      Medsize   \n",
      "3             Branch          484.013411  Four-Door Car      Medsize   \n",
      "4             Branch          707.925645  Four-Door Car      Medsize   \n",
      "...              ...                 ...            ...          ...   \n",
      "10905            Web         1214.400000     Luxury Car      Medsize   \n",
      "10906         Branch          273.018929  Four-Door Car      Medsize   \n",
      "10907            Web          381.306996     Luxury SUV      Medsize   \n",
      "10908         Branch          618.288849            SUV      Medsize   \n",
      "10909            Web         1021.719397            SUV      Medsize   \n",
      "\n",
      "      Vehicle_Type     Month  \n",
      "0            Other  February  \n",
      "1            Other   January  \n",
      "2                A  February  \n",
      "3                A   January  \n",
      "4            Other   January  \n",
      "...            ...       ...  \n",
      "10905            A   January  \n",
      "10906            A   January  \n",
      "10907        Other  February  \n",
      "10908            A  February  \n",
      "10909        Other   January  \n",
      "\n",
      "[10910 rows x 26 columns]\n"
     ]
    }
   ],
   "source": [
    "df_cleaner(sample_df)"
   ]
  },
  {
   "cell_type": "code",
   "execution_count": 49,
   "metadata": {},
   "outputs": [
    {
     "data": {
      "text/html": [
       "<div>\n",
       "<style scoped>\n",
       "    .dataframe tbody tr th:only-of-type {\n",
       "        vertical-align: middle;\n",
       "    }\n",
       "\n",
       "    .dataframe tbody tr th {\n",
       "        vertical-align: top;\n",
       "    }\n",
       "\n",
       "    .dataframe thead th {\n",
       "        text-align: right;\n",
       "    }\n",
       "</style>\n",
       "<table border=\"1\" class=\"dataframe\">\n",
       "  <thead>\n",
       "    <tr style=\"text-align: right;\">\n",
       "      <th></th>\n",
       "      <th>Customer</th>\n",
       "      <th>State</th>\n",
       "      <th>Customer_Lifetime_Value</th>\n",
       "      <th>Response</th>\n",
       "      <th>Coverage</th>\n",
       "      <th>Education</th>\n",
       "      <th>Effective_To_Date</th>\n",
       "      <th>EmploymentStatus</th>\n",
       "      <th>Gender</th>\n",
       "      <th>Income</th>\n",
       "      <th>...</th>\n",
       "      <th>Number_of_Policies</th>\n",
       "      <th>Policy_Type</th>\n",
       "      <th>Policy</th>\n",
       "      <th>Renew_Offer_Type</th>\n",
       "      <th>Sales_Channel</th>\n",
       "      <th>Total_Claim_Amount</th>\n",
       "      <th>Vehicle_Class</th>\n",
       "      <th>Vehicle_Size</th>\n",
       "      <th>Vehicle_Type</th>\n",
       "      <th>Month</th>\n",
       "    </tr>\n",
       "  </thead>\n",
       "  <tbody>\n",
       "    <tr>\n",
       "      <th>0</th>\n",
       "      <td>DK49336</td>\n",
       "      <td>Arizona</td>\n",
       "      <td>4809.216960</td>\n",
       "      <td>No</td>\n",
       "      <td>Basic</td>\n",
       "      <td>College</td>\n",
       "      <td>2011-02-18</td>\n",
       "      <td>Employed</td>\n",
       "      <td>M</td>\n",
       "      <td>48029</td>\n",
       "      <td>...</td>\n",
       "      <td>9</td>\n",
       "      <td>Corporate Auto</td>\n",
       "      <td>Corporate L3</td>\n",
       "      <td>Offer3</td>\n",
       "      <td>Agent</td>\n",
       "      <td>292.800000</td>\n",
       "      <td>Four-Door Car</td>\n",
       "      <td>Medsize</td>\n",
       "      <td>Other</td>\n",
       "      <td>February</td>\n",
       "    </tr>\n",
       "    <tr>\n",
       "      <th>1</th>\n",
       "      <td>KX64629</td>\n",
       "      <td>California</td>\n",
       "      <td>2228.525238</td>\n",
       "      <td>No</td>\n",
       "      <td>Basic</td>\n",
       "      <td>College</td>\n",
       "      <td>2011-01-18</td>\n",
       "      <td>Unemployed</td>\n",
       "      <td>F</td>\n",
       "      <td>0</td>\n",
       "      <td>...</td>\n",
       "      <td>1</td>\n",
       "      <td>Personal Auto</td>\n",
       "      <td>Personal L3</td>\n",
       "      <td>Offer4</td>\n",
       "      <td>Call Center</td>\n",
       "      <td>744.924331</td>\n",
       "      <td>Four-Door Car</td>\n",
       "      <td>Medsize</td>\n",
       "      <td>Other</td>\n",
       "      <td>January</td>\n",
       "    </tr>\n",
       "    <tr>\n",
       "      <th>2</th>\n",
       "      <td>LZ68649</td>\n",
       "      <td>Washington</td>\n",
       "      <td>14947.917300</td>\n",
       "      <td>No</td>\n",
       "      <td>Basic</td>\n",
       "      <td>Bachelor</td>\n",
       "      <td>2011-02-10</td>\n",
       "      <td>Employed</td>\n",
       "      <td>M</td>\n",
       "      <td>22139</td>\n",
       "      <td>...</td>\n",
       "      <td>2</td>\n",
       "      <td>Personal Auto</td>\n",
       "      <td>Personal L3</td>\n",
       "      <td>Offer3</td>\n",
       "      <td>Call Center</td>\n",
       "      <td>480.000000</td>\n",
       "      <td>SUV</td>\n",
       "      <td>Medsize</td>\n",
       "      <td>A</td>\n",
       "      <td>February</td>\n",
       "    </tr>\n",
       "  </tbody>\n",
       "</table>\n",
       "<p>3 rows × 26 columns</p>\n",
       "</div>"
      ],
      "text/plain": [
       "  Customer       State  Customer_Lifetime_Value Response Coverage Education  \\\n",
       "0  DK49336     Arizona              4809.216960       No    Basic   College   \n",
       "1  KX64629  California              2228.525238       No    Basic   College   \n",
       "2  LZ68649  Washington             14947.917300       No    Basic  Bachelor   \n",
       "\n",
       "  Effective_To_Date EmploymentStatus Gender  Income  ... Number_of_Policies  \\\n",
       "0        2011-02-18         Employed      M   48029  ...                  9   \n",
       "1        2011-01-18       Unemployed      F       0  ...                  1   \n",
       "2        2011-02-10         Employed      M   22139  ...                  2   \n",
       "\n",
       "      Policy_Type        Policy  Renew_Offer_Type  Sales_Channel  \\\n",
       "0  Corporate Auto  Corporate L3            Offer3          Agent   \n",
       "1   Personal Auto   Personal L3            Offer4    Call Center   \n",
       "2   Personal Auto   Personal L3            Offer3    Call Center   \n",
       "\n",
       "   Total_Claim_Amount  Vehicle_Class Vehicle_Size Vehicle_Type     Month  \n",
       "0          292.800000  Four-Door Car      Medsize        Other  February  \n",
       "1          744.924331  Four-Door Car      Medsize        Other   January  \n",
       "2          480.000000            SUV      Medsize            A  February  \n",
       "\n",
       "[3 rows x 26 columns]"
      ]
     },
     "execution_count": 49,
     "metadata": {},
     "output_type": "execute_result"
    }
   ],
   "source": [
    "sample_df.head(3)"
   ]
  },
  {
   "cell_type": "code",
   "execution_count": null,
   "metadata": {},
   "outputs": [],
   "source": []
  }
 ],
 "metadata": {
  "kernelspec": {
   "display_name": "Python 3",
   "language": "python",
   "name": "python3"
  },
  "language_info": {
   "codemirror_mode": {
    "name": "ipython",
    "version": 3
   },
   "file_extension": ".py",
   "mimetype": "text/x-python",
   "name": "python",
   "nbconvert_exporter": "python",
   "pygments_lexer": "ipython3",
   "version": "3.8.5"
  }
 },
 "nbformat": 4,
 "nbformat_minor": 5
}
